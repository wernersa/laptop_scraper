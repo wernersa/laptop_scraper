{
 "cells": [
  {
   "cell_type": "markdown",
   "metadata": {},
   "source": [
    "# Initialize code"
   ]
  },
  {
   "cell_type": "code",
   "execution_count": 8,
   "metadata": {},
   "outputs": [],
   "source": [
    "import os\n",
    "import math\n",
    "\n",
    "# Numbers and dataframes\n",
    "import numpy as np\n",
    "import pandas as pd\n",
    "\n",
    "# Visualization\n",
    "#import dtale\n",
    "#import seaborn as sns\n",
    "from matplotlib import pyplot as plt\n",
    "from matplotlib.colors import ListedColormap\n",
    "\n",
    "# Initialize settings\n",
    "from scrapy.utils.project import get_project_settings\n",
    "settings = get_project_settings()\n",
    "\n",
    "# # Ignore Warnings\n",
    "# import warnings\n",
    "# warnings.filterwarnings(\"ignore\")\n",
    "\n",
    "#%% Initialize settings and contstants:\n",
    "np.set_printoptions(precision=2, suppress=True)\n",
    "pd.set_option('display.max_columns', 20)\n",
    "\n",
    "\n"
   ]
  },
  {
   "cell_type": "markdown",
   "metadata": {},
   "source": [
    "Read mongodb data"
   ]
  },
  {
   "cell_type": "code",
   "execution_count": 3,
   "metadata": {},
   "outputs": [],
   "source": [
    "from pymongo import MongoClient\n",
    "from datetime import datetime, timezone\n",
    "import tzlocal\n",
    "\n",
    "QUERY = {\n",
    "    'meta.time_parsed': {\n",
    "        '$gt': datetime(2021, 12, 1, 0, 0, 0)\n",
    "    }\n",
    "}\n",
    "\n",
    "\n",
    "def read_mongo(uri = settings.get('MONGO_URI'), db_name = settings.get('MONGO_DB_NAME'), collection=\"\", query=QUERY, no_id=False):\n",
    "    \"\"\" Read from Mongo and Store into DataFrame \"\"\"\n",
    "    conn = MongoClient(uri)\n",
    "    db = conn[db_name]\n",
    "    collection = db[collection]\n",
    "    cursor = collection.find(query)\n",
    "    df =  pd.json_normalize(list(cursor), record_prefix=\"\", meta_prefix=\"\")\n",
    "    if no_id:\n",
    "        del df['_id']\n",
    "    return df\n"
   ]
  },
  {
   "cell_type": "code",
   "execution_count": 4,
   "metadata": {
    "tags": []
   },
   "outputs": [
    {
     "name": "stdout",
     "output_type": "stream",
     "text": [
      "(5450, 11)\n",
      "_id                              int64\n",
      "url                             object\n",
      "address                         object\n",
      "body                            object\n",
      "brand                           object\n",
      "condition                       object\n",
      "last_changed            datetime64[ns]\n",
      "price                          float64\n",
      "title                           object\n",
      "meta.time_parsed        datetime64[ns]\n",
      "meta.time_git_commit    datetime64[ns]\n",
      "dtype: object\n"
     ]
    }
   ],
   "source": [
    "df = read_mongo(collection=\"FinnLaptop\")\n",
    "\n",
    "print(df.shape)\n",
    "print(df.dtypes)\n"
   ]
  },
  {
   "cell_type": "code",
   "execution_count": 10,
   "metadata": {},
   "outputs": [
    {
     "data": {
      "image/png": "[encoded data removed]",
      "text/plain": [
       "<Figure size 1440x360 with 1 Axes>"
      ]
     },
     "metadata": {
      "needs_background": "light"
     },
     "output_type": "display_data"
    }
   ],
   "source": [
    "# Plot price\n",
    "df.query(\"price < 20000\").hist(column = [\"price\"], figsize=(20,5), xrot=-45, bins=50) ## Display the labels rotated by 45 degress\n",
    "plt.show() # Clear the text \"residue\""
   ]
  },
  {
   "cell_type": "markdown",
   "metadata": {},
   "source": [
    "# Reshape and restructure"
   ]
  },
  {
   "cell_type": "code",
   "execution_count": 11,
   "metadata": {},
   "outputs": [
    {
     "data": {
      "text/plain": [
       "Apple              1930\n",
       "Annet               687\n",
       "Lenovo              684\n",
       "HP                  542\n",
       "Asus                329\n",
       "Dell                304\n",
       "Acer                304\n",
       "Fujitsu Siemens      24\n",
       "Toshiba              23\n",
       "Name: brand, dtype: int64"
      ]
     },
     "execution_count": 11,
     "metadata": {},
     "output_type": "execute_result"
    }
   ],
   "source": [
    "df['brand'].value_counts()"
   ]
  },
  {
   "cell_type": "code",
   "execution_count": 12,
   "metadata": {},
   "outputs": [
    {
     "data": {
      "text/plain": [
       "32      Uåpnet SAMSUNG GALAXY CHROMEBOOK GO 14\" LAPTOP...\n",
       "33                                  Pc veske (IKKE BRUKT)\n",
       "38       Kraftig MSI GS65 Stealth Thin 8RF (toppmodellen)\n",
       "42      Helt ny uåpent MSI GV72 8RE-019 17,3\" bærbar g...\n",
       "56      Rain design mStand laptopstativ for MacBook (m...\n",
       "                              ...                        \n",
       "5428                                              Huaweii\n",
       "5429     Gaming PC fra Komplett - Komplett Gamer Mini i05\n",
       "5431                              Samsung Galaxy Book Pro\n",
       "5435                                     McAfee antivirus\n",
       "5445    MSI 15,6\" gaming bærbar - Med 2 år Trygghetsav...\n",
       "Name: title, Length: 687, dtype: object"
      ]
     },
     "execution_count": 12,
     "metadata": {},
     "output_type": "execute_result"
    }
   ],
   "source": [
    "df.query('brand == \"Annet\"')['title']"
   ]
  },
  {
   "cell_type": "code",
   "execution_count": 19,
   "metadata": {},
   "outputs": [
    {
     "data": {
      "text/html": [
       "<div>\n",
       "<style scoped>\n",
       "    .dataframe tbody tr th:only-of-type {\n",
       "        vertical-align: middle;\n",
       "    }\n",
       "\n",
       "    .dataframe tbody tr th {\n",
       "        vertical-align: top;\n",
       "    }\n",
       "\n",
       "    .dataframe thead th {\n",
       "        text-align: right;\n",
       "    }\n",
       "</style>\n",
       "<table border=\"1\" class=\"dataframe\">\n",
       "  <thead>\n",
       "    <tr style=\"text-align: right;\">\n",
       "      <th></th>\n",
       "      <th>_id</th>\n",
       "      <th>url</th>\n",
       "      <th>address</th>\n",
       "      <th>body</th>\n",
       "      <th>brand</th>\n",
       "      <th>condition</th>\n",
       "      <th>last_changed</th>\n",
       "      <th>price</th>\n",
       "      <th>title</th>\n",
       "      <th>meta.time_parsed</th>\n",
       "      <th>meta.time_git_commit</th>\n",
       "    </tr>\n",
       "  </thead>\n",
       "  <tbody>\n",
       "    <tr>\n",
       "      <th>3756</th>\n",
       "      <td>243300212</td>\n",
       "      <td>https://www.finn.no/bap/forsale/ad.html?finnko...</td>\n",
       "      <td>Helleveien 141, 5039 Bergen</td>\n",
       "      <td>Selger en fantastisk god gaming laptop som er ...</td>\n",
       "      <td>Lenovo</td>\n",
       "      <td>Ny</td>\n",
       "      <td>2022-01-10 16:19:00</td>\n",
       "      <td>14999.0</td>\n",
       "      <td>Kraftpakke! Gaming laptop - Med 3070-grafikk o...</td>\n",
       "      <td>2022-01-13 21:50:23.054</td>\n",
       "      <td>2021-12-19 14:56:57</td>\n",
       "    </tr>\n",
       "    <tr>\n",
       "      <th>4551</th>\n",
       "      <td>245166136</td>\n",
       "      <td>https://www.finn.no/bap/forsale/ad.html?finnko...</td>\n",
       "      <td>Helleveien 141, 5039 Bergen</td>\n",
       "      <td>Selger en fantastisk god gaming laptop som er ...</td>\n",
       "      <td>Lenovo</td>\n",
       "      <td>Ny</td>\n",
       "      <td>2022-01-19 15:53:00</td>\n",
       "      <td>13899.0</td>\n",
       "      <td>Kraftpakke! Gaming laptop - Med 3070-grafikk o...</td>\n",
       "      <td>2022-01-21 15:27:39.201</td>\n",
       "      <td>2021-12-19 14:56:57</td>\n",
       "    </tr>\n",
       "  </tbody>\n",
       "</table>\n",
       "</div>"
      ],
      "text/plain": [
       "            _id                                                url  \\\n",
       "3756  243300212  https://www.finn.no/bap/forsale/ad.html?finnko...   \n",
       "4551  245166136  https://www.finn.no/bap/forsale/ad.html?finnko...   \n",
       "\n",
       "                          address  \\\n",
       "3756  Helleveien 141, 5039 Bergen   \n",
       "4551  Helleveien 141, 5039 Bergen   \n",
       "\n",
       "                                                   body   brand condition  \\\n",
       "3756  Selger en fantastisk god gaming laptop som er ...  Lenovo        Ny   \n",
       "4551  Selger en fantastisk god gaming laptop som er ...  Lenovo        Ny   \n",
       "\n",
       "            last_changed    price  \\\n",
       "3756 2022-01-10 16:19:00  14999.0   \n",
       "4551 2022-01-19 15:53:00  13899.0   \n",
       "\n",
       "                                                  title  \\\n",
       "3756  Kraftpakke! Gaming laptop - Med 3070-grafikk o...   \n",
       "4551  Kraftpakke! Gaming laptop - Med 3070-grafikk o...   \n",
       "\n",
       "            meta.time_parsed meta.time_git_commit  \n",
       "3756 2022-01-13 21:50:23.054  2021-12-19 14:56:57  \n",
       "4551 2022-01-21 15:27:39.201  2021-12-19 14:56:57  "
      ]
     },
     "execution_count": 19,
     "metadata": {},
     "output_type": "execute_result"
    }
   ],
   "source": [
    "df[df['title'].str.contains(\"5800H\", regex=\"false\")]"
   ]
  }
 ],
 "metadata": {
  "interpreter": {
   "hash": "2be5faf79681da6f2a61fdfdd5405d65d042280f7fba6178067603e3a2925119"
  },
  "kernelspec": {
   "display_name": "Python 3.7.7 64-bit ('venv': venv)",
   "language": "python",
   "name": "python3"
  },
  "language_info": {
   "codemirror_mode": {
    "name": "ipython",
    "version": 3
   },
   "file_extension": ".py",
   "mimetype": "text/x-python",
   "name": "python",
   "nbconvert_exporter": "python",
   "pygments_lexer": "ipython3",
   "version": "3.10.0"
  },
  "orig_nbformat": 2
 },
 "nbformat": 4,
 "nbformat_minor": 2
}
